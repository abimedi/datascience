{
 "cells": [
  {
   "cell_type": "markdown",
   "id": "8500de9d-af18-4c09-9fcb-b78771c35841",
   "metadata": {
    "tags": []
   },
   "source": [
    "# Data Science Tools and Ecosystem"
   ]
  },
  {
   "cell_type": "markdown",
   "id": "69b62ff4-b475-45a6-a295-b21c99576a23",
   "metadata": {},
   "source": [
    "In this notebook, Data Science Tools and Ecosystem are summarized."
   ]
  },
  {
   "cell_type": "markdown",
   "id": "45fe0756-341e-4385-9f42-7ae122a9a2f7",
   "metadata": {},
   "source": [
    "**Objectives:**"
   ]
  },
  {
   "cell_type": "code",
   "execution_count": null,
   "id": "69619f13-092c-467b-a7b3-8e83390872e2",
   "metadata": {
    "tags": []
   },
   "outputs": [],
   "source": [
    "Introduce commonly used libraries in Data Science"
   ]
  },
  {
   "cell_type": "code",
   "execution_count": null,
   "id": "bf473bb8-d9cc-4fd0-8e26-872562536a3c",
   "metadata": {
    "tags": []
   },
   "outputs": [],
   "source": [
    "List popular languages for Data Science."
   ]
  },
  {
   "cell_type": "code",
   "execution_count": null,
   "id": "f225a04b-f2d4-47b5-87c6-a31128693657",
   "metadata": {
    "tags": []
   },
   "outputs": [],
   "source": [
    "List popular languages for Data Science."
   ]
  },
  {
   "cell_type": "code",
   "execution_count": null,
   "id": "89a6ab49-1aa6-4d81-966f-2cee3da90666",
   "metadata": {
    "tags": []
   },
   "outputs": [],
   "source": [
    "Convert units of time in Python"
   ]
  },
  {
   "cell_type": "markdown",
   "id": "dc2c3981-81a1-472e-b51e-48686b050d8f",
   "metadata": {},
   "source": [
    "Some of the popular languages that Data Scientists use are:"
   ]
  },
  {
   "cell_type": "markdown",
   "id": "c73106f3-98c1-401b-b43e-5cd459da6d05",
   "metadata": {},
   "source": [
    "Some of the popular languages that Data Scientists use are:"
   ]
  },
  {
   "cell_type": "code",
   "execution_count": null,
   "id": "1bd10c7d-1de7-43ab-883c-3f809ace2aeb",
   "metadata": {
    "tags": []
   },
   "outputs": [],
   "source": [
    "1. Python"
   ]
  },
  {
   "cell_type": "code",
   "execution_count": null,
   "id": "8c0a55a5-561f-4e6f-a2ca-d1f9e9602f96",
   "metadata": {
    "tags": []
   },
   "outputs": [],
   "source": [
    "2. R"
   ]
  },
  {
   "cell_type": "code",
   "execution_count": null,
   "id": "429c8f8b-900a-4c04-80e2-06a5992f6130",
   "metadata": {
    "tags": []
   },
   "outputs": [],
   "source": [
    "3. SQL"
   ]
  },
  {
   "cell_type": "markdown",
   "id": "a29340d0-cbd6-4c51-a5d4-b61b1b6fe6ee",
   "metadata": {},
   "source": [
    "Some of the commonly used libraries used by Data Scientists include:"
   ]
  },
  {
   "cell_type": "code",
   "execution_count": null,
   "id": "c74282c2-29ab-4876-adcf-656a89ed5e1b",
   "metadata": {
    "tags": []
   },
   "outputs": [],
   "source": [
    "1. NumPy"
   ]
  },
  {
   "cell_type": "code",
   "execution_count": null,
   "id": "03975854-1876-42ba-b4d6-814db734b325",
   "metadata": {
    "tags": []
   },
   "outputs": [],
   "source": [
    "2. Pandas"
   ]
  },
  {
   "cell_type": "code",
   "execution_count": null,
   "id": "3e548408-d55d-45f4-b2c8-49edd9fd1b97",
   "metadata": {
    "tags": []
   },
   "outputs": [],
   "source": [
    "3. Matplotlib"
   ]
  },
  {
   "cell_type": "markdown",
   "id": "da5dd539-902e-4267-b8b5-7dc0968d3b36",
   "metadata": {},
   "source": [
    "Data Science Tools"
   ]
  },
  {
   "cell_type": "code",
   "execution_count": null,
   "id": "821d1b3a-12cf-4275-bee1-03c1ec22b4ed",
   "metadata": {
    "tags": []
   },
   "outputs": [],
   "source": [
    "Jupyter Notebook"
   ]
  },
  {
   "cell_type": "code",
   "execution_count": null,
   "id": "ce4c0977-32c8-4146-a752-2496cc394be3",
   "metadata": {
    "tags": []
   },
   "outputs": [],
   "source": [
    "RStudio            "
   ]
  },
  {
   "cell_type": "code",
   "execution_count": null,
   "id": "eb9da26a-5540-468b-ba32-ebfe73a275be",
   "metadata": {
    "tags": []
   },
   "outputs": [],
   "source": [
    "Visual Studio Code"
   ]
  },
  {
   "cell_type": "code",
   "execution_count": null,
   "id": "abe652cb-1fb6-416e-8f27-144472a3403b",
   "metadata": {},
   "outputs": [],
   "source": []
  },
  {
   "cell_type": "markdown",
   "id": "d335916f-0dc9-4df9-bf6d-de5c850f8684",
   "metadata": {
    "tags": []
   },
   "source": [
    "### Below are a few examples of evaluating arithmetic expressions in Python"
   ]
  },
  {
   "cell_type": "code",
   "execution_count": null,
   "id": "534dcbf5-97c5-4821-a5c5-0f7008030ad3",
   "metadata": {
    "tags": []
   },
   "outputs": [],
   "source": [
    "This a simple arithmetic expression to mutiply then add integers"
   ]
  },
  {
   "cell_type": "code",
   "execution_count": null,
   "id": "95bf8951-6392-4327-a4a4-de22af8c2e9e",
   "metadata": {
    "tags": []
   },
   "outputs": [],
   "source": [
    "(3*4)+5"
   ]
  },
  {
   "cell_type": "code",
   "execution_count": null,
   "id": "8033f938-7447-446a-b2bc-668c475e684a",
   "metadata": {},
   "outputs": [],
   "source": [
    "17"
   ]
  },
  {
   "cell_type": "code",
   "execution_count": null,
   "id": "2e9d9816-990a-490b-b718-f4d91adede76",
   "metadata": {
    "tags": []
   },
   "outputs": [],
   "source": [
    "This will convert 200 minutes to hours by diving by 60"
   ]
  },
  {
   "cell_type": "code",
   "execution_count": null,
   "id": "85cd40c5-2ab4-404b-98a4-0fbfdeb5243e",
   "metadata": {
    "tags": []
   },
   "outputs": [],
   "source": [
    "200 / 60"
   ]
  },
  {
   "cell_type": "code",
   "execution_count": null,
   "id": "104db2ee-29e5-4b9e-abd6-804dd32f6421",
   "metadata": {},
   "outputs": [],
   "source": [
    "3.33333"
   ]
  },
  {
   "cell_type": "markdown",
   "id": "5d211426-094e-4e8c-a6a8-a1d3db3ac267",
   "metadata": {},
   "source": [
    "## Author"
   ]
  },
  {
   "cell_type": "code",
   "execution_count": null,
   "id": "4df5e0c2-1ca5-4139-9a79-2d5665a9f31a",
   "metadata": {
    "tags": []
   },
   "outputs": [],
   "source": [
    "Jessica Long"
   ]
  },
  {
   "cell_type": "code",
   "execution_count": null,
   "id": "fbe1bec7-3c2d-4ac8-a4f5-70afb3d39e0b",
   "metadata": {},
   "outputs": [],
   "source": []
  }
 ],
 "metadata": {
  "kernelspec": {
   "display_name": "Python",
   "language": "python",
   "name": "conda-env-python-py"
  },
  "language_info": {
   "codemirror_mode": {
    "name": "ipython",
    "version": 3
   },
   "file_extension": ".py",
   "mimetype": "text/x-python",
   "name": "python",
   "nbconvert_exporter": "python",
   "pygments_lexer": "ipython3",
   "version": "3.7.12"
  }
 },
 "nbformat": 4,
 "nbformat_minor": 5
}
